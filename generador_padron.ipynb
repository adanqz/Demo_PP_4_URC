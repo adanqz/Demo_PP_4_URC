{
  "nbformat": 4,
  "nbformat_minor": 0,
  "metadata": {
    "colab": {
      "provenance": [],
      "authorship_tag": "ABX9TyNQ97A/yqzetxlrE56krDjx"
    },
    "kernelspec": {
      "name": "python3",
      "display_name": "Python 3"
    },
    "language_info": {
      "name": "python"
    }
  },
  "cells": [
    {
      "cell_type": "code",
      "execution_count": 5,
      "metadata": {
        "colab": {
          "base_uri": "https://localhost:8080/"
        },
        "id": "jqHtkbrAW21A",
        "outputId": "dd686ff4-f420-4a03-84f1-0cd57d3bd424"
      },
      "outputs": [
        {
          "output_type": "stream",
          "name": "stdout",
          "text": [
            "Collecting Faker\n",
            "  Downloading Faker-19.11.0-py3-none-any.whl (1.7 MB)\n",
            "\u001b[2K     \u001b[90m━━━━━━━━━━━━━━━━━━━━━━━━━━━━━━━━━━━━━━━━\u001b[0m \u001b[32m1.7/1.7 MB\u001b[0m \u001b[31m15.9 MB/s\u001b[0m eta \u001b[36m0:00:00\u001b[0m\n",
            "\u001b[?25hRequirement already satisfied: python-dateutil>=2.4 in /usr/local/lib/python3.10/dist-packages (from Faker) (2.8.2)\n",
            "Requirement already satisfied: six>=1.5 in /usr/local/lib/python3.10/dist-packages (from python-dateutil>=2.4->Faker) (1.16.0)\n",
            "Installing collected packages: Faker\n",
            "Successfully installed Faker-19.11.0\n"
          ]
        }
      ],
      "source": [
        "pip install Faker"
      ]
    },
    {
      "cell_type": "code",
      "source": [
        "import hashlib\n",
        "import random\n",
        "import time\n",
        "from faker import Faker\n",
        "\n",
        "fake = Faker()\n",
        "\n",
        "def generate_dataset():\n",
        "    dataset = []\n",
        "    for _ in range(1000):\n",
        "        first_name = fake.first_name()\n",
        "        last_name = fake.last_name()\n",
        "        full_name = f\"{first_name} {last_name}\"\n",
        "        id_hash = hashlib.md5(full_name.encode()).hexdigest()\n",
        "        phone_number = fake.phone_number()\n",
        "        public_hash = hashlib.sha256(full_name.encode()).hexdigest()\n",
        "        private_hash = hashlib.sha512(full_name.encode()).hexdigest()\n",
        "        value = random.randint(1, 5)\n",
        "        timestamp = int(time.time())\n",
        "        data = {\n",
        "            \"name\": full_name,\n",
        "            \"id\": id_hash,\n",
        "            \"phone\": phone_number,\n",
        "            \"public_hash\": public_hash,\n",
        "            \"private_hash\": private_hash,\n",
        "            \"value\": value,\n",
        "            \"timestamp\": timestamp\n",
        "        }\n",
        "        dataset.append(data)\n",
        "    return dataset\n",
        "\n",
        "# Generar la dataset\n",
        "dataset = generate_dataset()\n",
        "\n",
        "# Imprimir los primeros registros para verificar\n",
        "for data in dataset[:5]:\n",
        "    print(data)"
      ],
      "metadata": {
        "colab": {
          "base_uri": "https://localhost:8080/"
        },
        "id": "ztwwJXaOXO44",
        "outputId": "4578cea6-469f-4053-a24f-be51e08177df"
      },
      "execution_count": 6,
      "outputs": [
        {
          "output_type": "stream",
          "name": "stdout",
          "text": [
            "{'name': 'Reginald Wu', 'id': '609bcfef20e7bfed4c2c187974eb22e0', 'phone': '+1-369-485-0940', 'public_hash': '291e4ffebad775c1d7bd536879aaa98bc8073f50774b4ea0e4086bdc1142a5b2', 'private_hash': 'e081e9667e53724a668d1a689ded8fdbf9476ebab408747456549593454c13073675ffb0ea8a7659ff5402234f77850a7ae8671f410a71c6b9958f2ebdc3881f', 'value': 2, 'timestamp': 1697726160}\n",
            "{'name': 'Timothy Thomas', 'id': 'f3b7189eb8ffb1bd3b46a0e22ce5d316', 'phone': '968.706.1564x81222', 'public_hash': '51dc7e544f49d6c658442a126c1a8b72cf3aaafb891ca463633b2435b1d04fd2', 'private_hash': 'bf81eeae9e3f66c1d232a7977dfe8e0031ae04098c7b458a5d2fb6ee148b6ddfddb7c97ae2c3d6365055c3b1f856bce0d88a83f91c6f151f8d6a814536024de2', 'value': 3, 'timestamp': 1697726160}\n",
            "{'name': 'Brittney Moore', 'id': '00fe0caddd1c517bbb567e0079657594', 'phone': '(924)622-8509x484', 'public_hash': '0f8f22b1704d61d324e5b24739616ad3056bb8b263784126538ab51407a0cbfa', 'private_hash': '3fe27845967c48eb2c16729b9a34770eab2eefd47aea40da5286600215666330a47ce349715945f23c31f4b93f2b6ff36e55f7b0dc8d5bd726a603c592f9eb04', 'value': 5, 'timestamp': 1697726160}\n",
            "{'name': 'Mark Mendez', 'id': 'cb674a93eccdb87f24c77dfaff8938c3', 'phone': '001-817-557-9896x21798', 'public_hash': 'fea7e09412185599d8d40696917c626373007ed9207b111f57f093250b4fa03d', 'private_hash': '26022e2b54ab95f2c45c2d5def19e58eb48e7c30d5b93ddb6839bbb75e5ce500a2ce75d838d903030034e185f87eb2dccf3fc68e83ae6b59ff3d9ccb1110f7cb', 'value': 5, 'timestamp': 1697726160}\n",
            "{'name': 'Jeremy Campbell', 'id': '4bdc498131b1cf32c867ef3043a33a70', 'phone': '(754)434-4848x688', 'public_hash': 'fb07bc87218ee4f1f7e90be5b39c979028c4da61bc6cd95e3d22ba72c72fcf5a', 'private_hash': '726772106a7fe30efaaa4db847d1dc52c1897014edb17260ce0ff010536cde91f2864d37cf4b1a3c2c64deb13d0943ec1d8cf00adc7c16ee92c6220cfcaf87af', 'value': 4, 'timestamp': 1697726160}\n"
          ]
        }
      ]
    }
  ]
}