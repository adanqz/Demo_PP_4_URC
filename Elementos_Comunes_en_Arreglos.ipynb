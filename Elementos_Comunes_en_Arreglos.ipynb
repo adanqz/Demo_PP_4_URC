{
  "nbformat": 4,
  "nbformat_minor": 0,
  "metadata": {
    "colab": {
      "provenance": [],
      "authorship_tag": "ABX9TyMq770rwMZIS4fjxOIjfz9R",
      "include_colab_link": true
    },
    "kernelspec": {
      "name": "python3",
      "display_name": "Python 3"
    },
    "language_info": {
      "name": "python"
    }
  },
  "cells": [
    {
      "cell_type": "markdown",
      "metadata": {
        "id": "view-in-github",
        "colab_type": "text"
      },
      "source": [
        "<a href=\"https://colab.research.google.com/github/adanqz/Demo_PP_4_URC/blob/main/Elementos_Comunes_en_Arreglos.ipynb\" target=\"_parent\"><img src=\"https://colab.research.google.com/assets/colab-badge.svg\" alt=\"Open In Colab\"/></a>"
      ]
    },
    {
      "cell_type": "code",
      "execution_count": 25,
      "metadata": {
        "colab": {
          "base_uri": "https://localhost:8080/"
        },
        "id": "9MhofxHhCRJ0",
        "outputId": "0e42a617-3987-4a9d-c727-8af293c1120e"
      },
      "outputs": [
        {
          "output_type": "stream",
          "name": "stdout",
          "text": [
            "Ingrese los elementos del primer arreglo separados por espacios: soya moya troya chirimolla\n",
            "Ingrese los elementos del segundo arreglo separados por espacios: soraya morraya mantarraya chirimolla escallola troya\n",
            "Elementos en comun:\n",
            "troya\n",
            "chirimolla\n"
          ]
        }
      ],
      "source": [
        "def encontrar_elementos_comunes(arreglo1, arreglo2):\n",
        "    elementos_comunes = []\n",
        "\n",
        "    for elemento in arreglo1:\n",
        "        if elemento in arreglo2:\n",
        "            elementos_comunes.append(elemento)\n",
        "\n",
        "    return elementos_comunes\n",
        "\n",
        "arreglo1 = input(\"Ingrese los elementos del primer arreglo separados por espacios: \").split()\n",
        "arreglo2 = input(\"Ingrese los elementos del segundo arreglo separados por espacios: \").split()\n",
        "\n",
        "elementos_comunes = encontrar_elementos_comunes(arreglo1, arreglo2)\n",
        "\n",
        "print(\"Elementos en comun:\")\n",
        "for elemento in elementos_comunes:\n",
        "    print(elemento)"
      ]
    }
  ]
}